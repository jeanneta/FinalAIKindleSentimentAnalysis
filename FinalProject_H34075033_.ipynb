{
  "nbformat": 4,
  "nbformat_minor": 0,
  "metadata": {
    "colab": {
      "name": "FinalProject_H34075033.",
      "provenance": [],
      "authorship_tag": "ABX9TyOmzGDo6NEoIY8nms+kI6xY",
      "include_colab_link": true
    },
    "kernelspec": {
      "display_name": "Python 3",
      "name": "python3"
    },
    "language_info": {
      "name": "python"
    }
  },
  "cells": [
    {
      "cell_type": "markdown",
      "metadata": {
        "id": "view-in-github",
        "colab_type": "text"
      },
      "source": [
        "<a href=\"https://colab.research.google.com/github/jeanneta/FinalAIKindleSentimentAnalysis/blob/main/FinalProject_H34075033_.ipynb\" target=\"_parent\"><img src=\"https://colab.research.google.com/assets/colab-badge.svg\" alt=\"Open In Colab\"/></a>"
      ]
    },
    {
      "cell_type": "code",
      "metadata": {
        "id": "6l1wIO5pjCML"
      },
      "source": [
        "!pip install -q kaggle"
      ],
      "execution_count": null,
      "outputs": []
    },
    {
      "cell_type": "code",
      "metadata": {
        "colab": {
          "resources": {
            "http://localhost:8080/nbextensions/google.colab/files.js": {
              "data": "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",
              "ok": true,
              "headers": [
                [
                  "content-type",
                  "application/javascript"
                ]
              ],
              "status": 200,
              "status_text": ""
            }
          },
          "base_uri": "https://localhost:8080/",
          "height": 89
        },
        "id": "RGA9tvqDHbU9",
        "outputId": "41a5a6b4-db9f-4d83-9cc0-25805afead26"
      },
      "source": [
        "from google.colab import files\n",
        "files.upload()"
      ],
      "execution_count": null,
      "outputs": [
        {
          "output_type": "display_data",
          "data": {
            "text/html": [
              "\n",
              "     <input type=\"file\" id=\"files-b9313e53-395d-4345-a455-59d225865c69\" name=\"files[]\" multiple disabled\n",
              "        style=\"border:none\" />\n",
              "     <output id=\"result-b9313e53-395d-4345-a455-59d225865c69\">\n",
              "      Upload widget is only available when the cell has been executed in the\n",
              "      current browser session. Please rerun this cell to enable.\n",
              "      </output>\n",
              "      <script src=\"/nbextensions/google.colab/files.js\"></script> "
            ],
            "text/plain": [
              "<IPython.core.display.HTML object>"
            ]
          },
          "metadata": {
            "tags": []
          }
        },
        {
          "output_type": "stream",
          "text": [
            "Saving kaggle.json to kaggle.json\n"
          ],
          "name": "stdout"
        },
        {
          "output_type": "execute_result",
          "data": {
            "text/plain": [
              "{'kaggle.json': b'{\"username\":\"jeannetaolivia\",\"key\":\"46bcea5bd1d7119889d5ad5b8c10c92a\"}'}"
            ]
          },
          "metadata": {
            "tags": []
          },
          "execution_count": 1
        }
      ]
    },
    {
      "cell_type": "code",
      "metadata": {
        "id": "gTHtFVZ-Huuc"
      },
      "source": [
        "! mkdir ~/.kaggle"
      ],
      "execution_count": null,
      "outputs": []
    },
    {
      "cell_type": "code",
      "metadata": {
        "id": "ZyZg2kNfH6wL"
      },
      "source": [
        "! cp kaggle.json ~/.kaggle/"
      ],
      "execution_count": null,
      "outputs": []
    },
    {
      "cell_type": "code",
      "metadata": {
        "id": "HdwiDCblIoW6"
      },
      "source": [
        "! chmod 600 ~/.kaggle/kaggle.json"
      ],
      "execution_count": null,
      "outputs": []
    },
    {
      "cell_type": "markdown",
      "metadata": {
        "id": "fhP2JLULy2wY"
      },
      "source": [
        ""
      ]
    },
    {
      "cell_type": "code",
      "metadata": {
        "colab": {
          "base_uri": "https://localhost:8080/"
        },
        "id": "2qSKDb4WI1MH",
        "outputId": "fd81a5ff-ca8a-4b20-92f9-e7e2bdec8457"
      },
      "source": [
        "! kaggle datasets list"
      ],
      "execution_count": null,
      "outputs": [
        {
          "output_type": "stream",
          "text": [
            "Warning: Looks like you're using an outdated API Version, please consider updating (server 1.5.12 / client 1.5.4)\n",
            "ref                                                           title                                              size  lastUpdated          downloadCount  \n",
            "------------------------------------------------------------  ------------------------------------------------  -----  -------------------  -------------  \n",
            "gpreda/reddit-vaccine-myths                                   Reddit Vaccine Myths                              229KB  2021-06-19 20:05:51           7886  \n",
            "crowww/a-large-scale-fish-dataset                             A Large Scale Fish Dataset                          3GB  2021-04-28 17:03:01           4794  \n",
            "imsparsh/musicnet-dataset                                     MusicNet Dataset                                   22GB  2021-02-18 14:12:19           1620  \n",
            "dhruvildave/wikibooks-dataset                                 Wikibooks Dataset                                   1GB  2021-06-09 15:58:24           2261  \n",
            "mathurinache/twitter-edge-nodes                               Twitter Edge Nodes                                342MB  2021-03-08 06:43:04            526  \n",
            "fatiimaezzahra/famous-iconic-women                            Famous Iconic Women                               838MB  2021-02-28 14:56:00            805  \n",
            "promptcloud/careerbuilder-job-listing-2020                    Careerbuilder Job Listing 2020                     42MB  2021-03-05 06:59:52           1098  \n",
            "coloradokb/dandelionimages                                    DandelionImages                                     4GB  2021-02-19 20:03:47            495  \n",
            "nickuzmenkov/nih-chest-xrays-tfrecords                        NIH Chest X-rays TFRecords                         11GB  2021-03-09 04:49:23            601  \n",
            "alsgroup/end-als                                              End ALS Kaggle Challenge                           12GB  2021-04-08 12:16:37            724  \n",
            "simiotic/github-code-snippets                                 GitHub Code Snippets                                7GB  2021-03-03 11:34:39            163  \n",
            "mathurinache/the-lj-speech-dataset                            The LJ Speech Dataset                               3GB  2021-02-15 09:19:54            198  \n",
            "landrykezebou/lvzhdr-tone-mapping-benchmark-dataset-tmonet    LVZ-HDR Tone Mapping Benchmark Dataset (TMO-Net)   24GB  2021-03-01 05:03:40            123  \n",
            "nickuzmenkov/ranzcr-clip-kfold-tfrecords                      RANZCR CLiP KFold TFRecords                         2GB  2021-02-21 13:29:51             85  \n",
            "stuartjames/lights                                            LightS: Light Specularity Dataset                  18GB  2021-02-18 14:32:26             78  \n",
            "imsparsh/accentdb-core-extended                               AccentDB - Core & Extended                          6GB  2021-02-17 14:22:54             84  \n",
            "jessicali9530/animal-crossing-new-horizons-nookplaza-dataset  Animal Crossing New Horizons Catalog              577KB  2021-06-08 15:05:09           3915  \n",
            "datasnaek/youtube-new                                         Trending YouTube Video Statistics                 201MB  2019-06-03 00:56:47         142801  \n",
            "zynicide/wine-reviews                                         Wine Reviews                                       51MB  2017-11-27 17:08:04         138746  \n",
            "residentmario/ramen-ratings                                   Ramen Ratings                                      40KB  2018-01-11 16:04:39          24178  \n"
          ],
          "name": "stdout"
        }
      ]
    },
    {
      "cell_type": "code",
      "metadata": {
        "colab": {
          "base_uri": "https://localhost:8080/"
        },
        "id": "9ABGfCsxJx2k",
        "outputId": "82d83332-e3fb-42af-c4ad-05a3298ff845"
      },
      "source": [
        "!kaggle datasets download -d bharadwaj6/kindle-reviews"
      ],
      "execution_count": null,
      "outputs": [
        {
          "output_type": "stream",
          "text": [
            "Downloading kindle-reviews.zip to /content\n",
            " 95% 500M/525M [00:09<00:00, 36.7MB/s]\n",
            "100% 525M/525M [00:09<00:00, 58.0MB/s]\n"
          ],
          "name": "stdout"
        }
      ]
    },
    {
      "cell_type": "code",
      "metadata": {
        "colab": {
          "base_uri": "https://localhost:8080/"
        },
        "id": "4RZbqZWcLVB5",
        "outputId": "54a899bc-dfcf-4932-b752-86c4f2c80c17"
      },
      "source": [
        "!unzip kindle-reviews.zip"
      ],
      "execution_count": null,
      "outputs": [
        {
          "output_type": "stream",
          "text": [
            "Archive:  kindle-reviews.zip\n",
            "  inflating: kindle_reviews.csv      \n",
            "  inflating: kindle_reviews.json     \n"
          ],
          "name": "stdout"
        }
      ]
    },
    {
      "cell_type": "code",
      "metadata": {
        "id": "i_OPlL76jgIx"
      },
      "source": [
        "import json\n",
        "import csv\n",
        "import pandas as pd\n",
        "import numpy as np\n"
      ],
      "execution_count": null,
      "outputs": []
    },
    {
      "cell_type": "code",
      "metadata": {
        "id": "kK15KeNZkAa9"
      },
      "source": [
        "df = pd.read_csv('/content/kindle_reviews.csv')\n"
      ],
      "execution_count": null,
      "outputs": []
    },
    {
      "cell_type": "code",
      "metadata": {
        "id": "0c7BQv6dkd43",
        "colab": {
          "base_uri": "https://localhost:8080/",
          "height": 1000
        },
        "outputId": "13939ca6-ca10-44a5-e107-04104f70bb92"
      },
      "source": [
        "\n",
        "df"
      ],
      "execution_count": null,
      "outputs": [
        {
          "output_type": "execute_result",
          "data": {
            "text/html": [
              "<div>\n",
              "<style scoped>\n",
              "    .dataframe tbody tr th:only-of-type {\n",
              "        vertical-align: middle;\n",
              "    }\n",
              "\n",
              "    .dataframe tbody tr th {\n",
              "        vertical-align: top;\n",
              "    }\n",
              "\n",
              "    .dataframe thead th {\n",
              "        text-align: right;\n",
              "    }\n",
              "</style>\n",
              "<table border=\"1\" class=\"dataframe\">\n",
              "  <thead>\n",
              "    <tr style=\"text-align: right;\">\n",
              "      <th></th>\n",
              "      <th>Unnamed: 0</th>\n",
              "      <th>asin</th>\n",
              "      <th>helpful</th>\n",
              "      <th>overall</th>\n",
              "      <th>reviewText</th>\n",
              "      <th>reviewTime</th>\n",
              "      <th>reviewerID</th>\n",
              "      <th>reviewerName</th>\n",
              "      <th>summary</th>\n",
              "      <th>unixReviewTime</th>\n",
              "    </tr>\n",
              "  </thead>\n",
              "  <tbody>\n",
              "    <tr>\n",
              "      <th>0</th>\n",
              "      <td>0</td>\n",
              "      <td>B000F83SZQ</td>\n",
              "      <td>[0, 0]</td>\n",
              "      <td>5</td>\n",
              "      <td>I enjoy vintage books and movies so I enjoyed ...</td>\n",
              "      <td>05 5, 2014</td>\n",
              "      <td>A1F6404F1VG29J</td>\n",
              "      <td>Avidreader</td>\n",
              "      <td>Nice vintage story</td>\n",
              "      <td>1399248000</td>\n",
              "    </tr>\n",
              "    <tr>\n",
              "      <th>1</th>\n",
              "      <td>1</td>\n",
              "      <td>B000F83SZQ</td>\n",
              "      <td>[2, 2]</td>\n",
              "      <td>4</td>\n",
              "      <td>This book is a reissue of an old one; the auth...</td>\n",
              "      <td>01 6, 2014</td>\n",
              "      <td>AN0N05A9LIJEQ</td>\n",
              "      <td>critters</td>\n",
              "      <td>Different...</td>\n",
              "      <td>1388966400</td>\n",
              "    </tr>\n",
              "    <tr>\n",
              "      <th>2</th>\n",
              "      <td>2</td>\n",
              "      <td>B000F83SZQ</td>\n",
              "      <td>[2, 2]</td>\n",
              "      <td>4</td>\n",
              "      <td>This was a fairly interesting read.  It had ol...</td>\n",
              "      <td>04 4, 2014</td>\n",
              "      <td>A795DMNCJILA6</td>\n",
              "      <td>dot</td>\n",
              "      <td>Oldie</td>\n",
              "      <td>1396569600</td>\n",
              "    </tr>\n",
              "    <tr>\n",
              "      <th>3</th>\n",
              "      <td>3</td>\n",
              "      <td>B000F83SZQ</td>\n",
              "      <td>[1, 1]</td>\n",
              "      <td>5</td>\n",
              "      <td>I'd never read any of the Amy Brewster mysteri...</td>\n",
              "      <td>02 19, 2014</td>\n",
              "      <td>A1FV0SX13TWVXQ</td>\n",
              "      <td>Elaine H. Turley \"Montana Songbird\"</td>\n",
              "      <td>I really liked it.</td>\n",
              "      <td>1392768000</td>\n",
              "    </tr>\n",
              "    <tr>\n",
              "      <th>4</th>\n",
              "      <td>4</td>\n",
              "      <td>B000F83SZQ</td>\n",
              "      <td>[0, 1]</td>\n",
              "      <td>4</td>\n",
              "      <td>If you like period pieces - clothing, lingo, y...</td>\n",
              "      <td>03 19, 2014</td>\n",
              "      <td>A3SPTOKDG7WBLN</td>\n",
              "      <td>Father Dowling Fan</td>\n",
              "      <td>Period Mystery</td>\n",
              "      <td>1395187200</td>\n",
              "    </tr>\n",
              "    <tr>\n",
              "      <th>...</th>\n",
              "      <td>...</td>\n",
              "      <td>...</td>\n",
              "      <td>...</td>\n",
              "      <td>...</td>\n",
              "      <td>...</td>\n",
              "      <td>...</td>\n",
              "      <td>...</td>\n",
              "      <td>...</td>\n",
              "      <td>...</td>\n",
              "      <td>...</td>\n",
              "    </tr>\n",
              "    <tr>\n",
              "      <th>982614</th>\n",
              "      <td>982614</td>\n",
              "      <td>B00M13FNSS</td>\n",
              "      <td>[2, 2]</td>\n",
              "      <td>5</td>\n",
              "      <td>Yasss hunny! This is a great read. That Dre is...</td>\n",
              "      <td>07 23, 2014</td>\n",
              "      <td>A2Y66HD4J5S7QZ</td>\n",
              "      <td>Candi</td>\n",
              "      <td>A Hot Read Indeed!!</td>\n",
              "      <td>1406073600</td>\n",
              "    </tr>\n",
              "    <tr>\n",
              "      <th>982615</th>\n",
              "      <td>982615</td>\n",
              "      <td>B00M13FNSS</td>\n",
              "      <td>[0, 0]</td>\n",
              "      <td>5</td>\n",
              "      <td>I ENJOYED THIS BOOK FROM BEGINNING TO END NOW ...</td>\n",
              "      <td>07 23, 2014</td>\n",
              "      <td>A17YHECC8H9NEY</td>\n",
              "      <td>Margie</td>\n",
              "      <td>VERY GOOD BOOK</td>\n",
              "      <td>1406073600</td>\n",
              "    </tr>\n",
              "    <tr>\n",
              "      <th>982616</th>\n",
              "      <td>982616</td>\n",
              "      <td>B00M13FNSS</td>\n",
              "      <td>[1, 1]</td>\n",
              "      <td>5</td>\n",
              "      <td>Great book! Cherika was a fool. She let that m...</td>\n",
              "      <td>07 23, 2014</td>\n",
              "      <td>A20KO0BPMNREJL</td>\n",
              "      <td>Nicki</td>\n",
              "      <td>Great Read</td>\n",
              "      <td>1406073600</td>\n",
              "    </tr>\n",
              "    <tr>\n",
              "      <th>982617</th>\n",
              "      <td>982617</td>\n",
              "      <td>B00M13FNSS</td>\n",
              "      <td>[0, 0]</td>\n",
              "      <td>5</td>\n",
              "      <td>When I say this was an excellent book please b...</td>\n",
              "      <td>07 23, 2014</td>\n",
              "      <td>A1BQO66R6OLCCW</td>\n",
              "      <td>Nikey</td>\n",
              "      <td>Wow!!</td>\n",
              "      <td>1406073600</td>\n",
              "    </tr>\n",
              "    <tr>\n",
              "      <th>982618</th>\n",
              "      <td>982618</td>\n",
              "      <td>B00M13FNSS</td>\n",
              "      <td>[2, 2]</td>\n",
              "      <td>5</td>\n",
              "      <td>This book was everything. I just hope Alexus w...</td>\n",
              "      <td>07 23, 2014</td>\n",
              "      <td>A2NRGE3CSFY2TQ</td>\n",
              "      <td>Yo</td>\n",
              "      <td>Great read.hands down #5star hit</td>\n",
              "      <td>1406073600</td>\n",
              "    </tr>\n",
              "  </tbody>\n",
              "</table>\n",
              "<p>982619 rows × 10 columns</p>\n",
              "</div>"
            ],
            "text/plain": [
              "        Unnamed: 0  ... unixReviewTime\n",
              "0                0  ...     1399248000\n",
              "1                1  ...     1388966400\n",
              "2                2  ...     1396569600\n",
              "3                3  ...     1392768000\n",
              "4                4  ...     1395187200\n",
              "...            ...  ...            ...\n",
              "982614      982614  ...     1406073600\n",
              "982615      982615  ...     1406073600\n",
              "982616      982616  ...     1406073600\n",
              "982617      982617  ...     1406073600\n",
              "982618      982618  ...     1406073600\n",
              "\n",
              "[982619 rows x 10 columns]"
            ]
          },
          "metadata": {
            "tags": []
          },
          "execution_count": 18
        }
      ]
    },
    {
      "cell_type": "code",
      "metadata": {
        "id": "k16BMsSaLMxY"
      },
      "source": [
        "df = pd.read_csv('/content/kindle_reviews.csv', usecols=[\"reviewText\", \"overall\"])\n"
      ],
      "execution_count": null,
      "outputs": []
    },
    {
      "cell_type": "code",
      "metadata": {
        "colab": {
          "base_uri": "https://localhost:8080/",
          "height": 419
        },
        "id": "e6ie33-qLM5S",
        "outputId": "c56f5159-d311-4e8a-9e5a-bd7e4edc7157"
      },
      "source": [
        "df"
      ],
      "execution_count": null,
      "outputs": [
        {
          "output_type": "execute_result",
          "data": {
            "text/html": [
              "<div>\n",
              "<style scoped>\n",
              "    .dataframe tbody tr th:only-of-type {\n",
              "        vertical-align: middle;\n",
              "    }\n",
              "\n",
              "    .dataframe tbody tr th {\n",
              "        vertical-align: top;\n",
              "    }\n",
              "\n",
              "    .dataframe thead th {\n",
              "        text-align: right;\n",
              "    }\n",
              "</style>\n",
              "<table border=\"1\" class=\"dataframe\">\n",
              "  <thead>\n",
              "    <tr style=\"text-align: right;\">\n",
              "      <th></th>\n",
              "      <th>overall</th>\n",
              "      <th>reviewText</th>\n",
              "    </tr>\n",
              "  </thead>\n",
              "  <tbody>\n",
              "    <tr>\n",
              "      <th>0</th>\n",
              "      <td>5</td>\n",
              "      <td>I enjoy vintage books and movies so I enjoyed ...</td>\n",
              "    </tr>\n",
              "    <tr>\n",
              "      <th>1</th>\n",
              "      <td>4</td>\n",
              "      <td>This book is a reissue of an old one; the auth...</td>\n",
              "    </tr>\n",
              "    <tr>\n",
              "      <th>2</th>\n",
              "      <td>4</td>\n",
              "      <td>This was a fairly interesting read.  It had ol...</td>\n",
              "    </tr>\n",
              "    <tr>\n",
              "      <th>3</th>\n",
              "      <td>5</td>\n",
              "      <td>I'd never read any of the Amy Brewster mysteri...</td>\n",
              "    </tr>\n",
              "    <tr>\n",
              "      <th>4</th>\n",
              "      <td>4</td>\n",
              "      <td>If you like period pieces - clothing, lingo, y...</td>\n",
              "    </tr>\n",
              "    <tr>\n",
              "      <th>...</th>\n",
              "      <td>...</td>\n",
              "      <td>...</td>\n",
              "    </tr>\n",
              "    <tr>\n",
              "      <th>982614</th>\n",
              "      <td>5</td>\n",
              "      <td>Yasss hunny! This is a great read. That Dre is...</td>\n",
              "    </tr>\n",
              "    <tr>\n",
              "      <th>982615</th>\n",
              "      <td>5</td>\n",
              "      <td>I ENJOYED THIS BOOK FROM BEGINNING TO END NOW ...</td>\n",
              "    </tr>\n",
              "    <tr>\n",
              "      <th>982616</th>\n",
              "      <td>5</td>\n",
              "      <td>Great book! Cherika was a fool. She let that m...</td>\n",
              "    </tr>\n",
              "    <tr>\n",
              "      <th>982617</th>\n",
              "      <td>5</td>\n",
              "      <td>When I say this was an excellent book please b...</td>\n",
              "    </tr>\n",
              "    <tr>\n",
              "      <th>982618</th>\n",
              "      <td>5</td>\n",
              "      <td>This book was everything. I just hope Alexus w...</td>\n",
              "    </tr>\n",
              "  </tbody>\n",
              "</table>\n",
              "<p>982619 rows × 2 columns</p>\n",
              "</div>"
            ],
            "text/plain": [
              "        overall                                         reviewText\n",
              "0             5  I enjoy vintage books and movies so I enjoyed ...\n",
              "1             4  This book is a reissue of an old one; the auth...\n",
              "2             4  This was a fairly interesting read.  It had ol...\n",
              "3             5  I'd never read any of the Amy Brewster mysteri...\n",
              "4             4  If you like period pieces - clothing, lingo, y...\n",
              "...         ...                                                ...\n",
              "982614        5  Yasss hunny! This is a great read. That Dre is...\n",
              "982615        5  I ENJOYED THIS BOOK FROM BEGINNING TO END NOW ...\n",
              "982616        5  Great book! Cherika was a fool. She let that m...\n",
              "982617        5  When I say this was an excellent book please b...\n",
              "982618        5  This book was everything. I just hope Alexus w...\n",
              "\n",
              "[982619 rows x 2 columns]"
            ]
          },
          "metadata": {
            "tags": []
          },
          "execution_count": 20
        }
      ]
    },
    {
      "cell_type": "code",
      "metadata": {
        "id": "RLtOxq1wLNBY"
      },
      "source": [
        ""
      ],
      "execution_count": null,
      "outputs": []
    },
    {
      "cell_type": "code",
      "metadata": {
        "id": "MyAm2KX_lAap",
        "colab": {
          "base_uri": "https://localhost:8080/"
        },
        "outputId": "fa991628-7c14-4696-9d92-2830d6f2b350"
      },
      "source": [
        "df.shape"
      ],
      "execution_count": null,
      "outputs": [
        {
          "output_type": "execute_result",
          "data": {
            "text/plain": [
              "(982619, 2)"
            ]
          },
          "metadata": {
            "tags": []
          },
          "execution_count": 21
        }
      ]
    },
    {
      "cell_type": "code",
      "metadata": {
        "id": "Ju-NzWABpI6U",
        "colab": {
          "base_uri": "https://localhost:8080/"
        },
        "outputId": "a93060d6-0143-4043-91ff-b4e7f609939c"
      },
      "source": [
        "df.isna().sum() #checking null"
      ],
      "execution_count": null,
      "outputs": [
        {
          "output_type": "execute_result",
          "data": {
            "text/plain": [
              "overall        0\n",
              "reviewText    22\n",
              "dtype: int64"
            ]
          },
          "metadata": {
            "tags": []
          },
          "execution_count": 22
        }
      ]
    },
    {
      "cell_type": "code",
      "metadata": {
        "id": "_edwOVo1pKQr"
      },
      "source": [
        "df.dropna(subset=['reviewText'], inplace=True) #droping null's in reviews\n"
      ],
      "execution_count": null,
      "outputs": []
    },
    {
      "cell_type": "code",
      "metadata": {
        "id": "DGS9LIYsNM9A",
        "colab": {
          "base_uri": "https://localhost:8080/"
        },
        "outputId": "10460df4-5b7e-43b2-bcda-66d44bc12526"
      },
      "source": [
        "df.isna().sum() # check again"
      ],
      "execution_count": null,
      "outputs": [
        {
          "output_type": "execute_result",
          "data": {
            "text/plain": [
              "overall       0\n",
              "reviewText    0\n",
              "dtype: int64"
            ]
          },
          "metadata": {
            "tags": []
          },
          "execution_count": 24
        }
      ]
    },
    {
      "cell_type": "code",
      "metadata": {
        "id": "DuETosuaNQI6",
        "colab": {
          "base_uri": "https://localhost:8080/"
        },
        "outputId": "ab876f54-5e90-461b-f825-95b86454fc90"
      },
      "source": [
        "df.info(verbose=True, null_counts=True) #to see the type of columns\n"
      ],
      "execution_count": null,
      "outputs": [
        {
          "output_type": "stream",
          "text": [
            "<class 'pandas.core.frame.DataFrame'>\n",
            "Int64Index: 982597 entries, 0 to 982618\n",
            "Data columns (total 2 columns):\n",
            " #   Column      Non-Null Count   Dtype \n",
            "---  ------      --------------   ----- \n",
            " 0   overall     982597 non-null  int64 \n",
            " 1   reviewText  982597 non-null  object\n",
            "dtypes: int64(1), object(1)\n",
            "memory usage: 22.5+ MB\n"
          ],
          "name": "stdout"
        }
      ]
    },
    {
      "cell_type": "code",
      "metadata": {
        "id": "WTFzoOlrNX6-",
        "colab": {
          "base_uri": "https://localhost:8080/"
        },
        "outputId": "c01e1f62-4413-4946-9e9f-154c13a74488"
      },
      "source": [
        "df['overall'].value_counts()\n"
      ],
      "execution_count": null,
      "outputs": [
        {
          "output_type": "execute_result",
          "data": {
            "text/plain": [
              "5    575246\n",
              "4    254010\n",
              "3     96193\n",
              "2     34130\n",
              "1     23018\n",
              "Name: overall, dtype: int64"
            ]
          },
          "metadata": {
            "tags": []
          },
          "execution_count": 30
        }
      ]
    },
    {
      "cell_type": "code",
      "metadata": {
        "colab": {
          "base_uri": "https://localhost:8080/",
          "height": 295
        },
        "id": "4m_64JUBMX0y",
        "outputId": "56348603-265a-4036-854d-00b9f699237c"
      },
      "source": [
        "import matplotlib.pyplot as plt\n",
        "df.overall.value_counts().plot(kind = 'bar')\n",
        "plt.title('Number of Ratings')\n",
        "plt.xlabel('Rating Scales')\n",
        "plt.xticks(rotation = 0)\n",
        "plt.ylabel('Total ratings')\n",
        "plt.show()"
      ],
      "execution_count": null,
      "outputs": [
        {
          "output_type": "display_data",
          "data": {
            "image/png": "[encoded data removed]",
            "text/plain": [
              "<Figure size 432x288 with 1 Axes>"
            ]
          },
          "metadata": {
            "tags": [],
            "needs_background": "light"
          }
        }
      ]
    },
    {
      "cell_type": "code",
      "metadata": {
        "id": "jsmElBs3Za2O"
      },
      "source": [
        "# rating 1-4 as 0, others as 1\n",
        "def calc_two_sentiment(overall):  \n",
        "    if overall >= 5:\n",
        "        return 1\n",
        "    else:\n",
        "        return 0\n"
      ],
      "execution_count": null,
      "outputs": []
    },
    {
      "cell_type": "code",
      "metadata": {
        "id": "CXQIwMD6Za9J"
      },
      "source": [
        "df['sentiment'] = df['overall'].apply(calc_two_sentiment) # appyling converter to change sentiments\n"
      ],
      "execution_count": null,
      "outputs": []
    },
    {
      "cell_type": "code",
      "metadata": {
        "id": "Je3FYUwsZbEE",
        "colab": {
          "base_uri": "https://localhost:8080/"
        },
        "outputId": "bd166996-409c-43fc-ec1d-e360d5a36b31"
      },
      "source": [
        "df['sentiment'].value_counts()\n"
      ],
      "execution_count": null,
      "outputs": [
        {
          "output_type": "execute_result",
          "data": {
            "text/plain": [
              "1    575246\n",
              "0    407351\n",
              "Name: sentiment, dtype: int64"
            ]
          },
          "metadata": {
            "tags": []
          },
          "execution_count": 36
        }
      ]
    },
    {
      "cell_type": "code",
      "metadata": {
        "colab": {
          "base_uri": "https://localhost:8080/",
          "height": 295
        },
        "id": "T9q38bliMyhH",
        "outputId": "28c9338d-c718-437e-f172-753d2d9c4576"
      },
      "source": [
        "df.sentiment.value_counts().plot(kind = 'bar')\n",
        "plt.title('Positive VS Negative')\n",
        "plt.xlabel('Rating Scales')\n",
        "plt.xticks(rotation = 0)\n",
        "plt.ylabel('Total ratings')\n",
        "plt.show()"
      ],
      "execution_count": null,
      "outputs": [
        {
          "output_type": "display_data",
          "data": {
            "image/png": "[encoded data removed]",
            "text/plain": [
              "<Figure size 432x288 with 1 Axes>"
            ]
          },
          "metadata": {
            "tags": [],
            "needs_background": "light"
          }
        }
      ]
    },
    {
      "cell_type": "code",
      "metadata": {
        "id": "spU_o1auZbKk"
      },
      "source": [
        "df_0 = df.loc[df['sentiment']==0].head(10000)\n",
        "df_1 = df.loc[df['sentiment']==1].head(10000)\n",
        "\n"
      ],
      "execution_count": null,
      "outputs": []
    },
    {
      "cell_type": "code",
      "metadata": {
        "id": "7oMinJbya4eY"
      },
      "source": [
        "frames = [df_0, df_1]\n",
        "#getting together samples\n",
        "df_sampled = pd.concat(frames)\n",
        "df_sampled['sentiment'].value_counts() #sample classes - balanced chosen\n"
      ],
      "execution_count": null,
      "outputs": []
    },
    {
      "cell_type": "code",
      "metadata": {
        "id": "ZUNW7zQR3iHU"
      },
      "source": [
        "from google.colab import drive\n",
        "drive.mount('/content/drive')"
      ],
      "execution_count": null,
      "outputs": []
    },
    {
      "cell_type": "code",
      "metadata": {
        "id": "3yZNQBv1a4lU"
      },
      "source": [
        "# df_sampled"
      ],
      "execution_count": null,
      "outputs": []
    },
    {
      "cell_type": "code",
      "metadata": {
        "id": "Uuermtn3a4sj",
        "colab": {
          "base_uri": "https://localhost:8080/",
          "height": 35
        },
        "outputId": "9e37fff9-0758-40ec-b9bf-1eb3c60c65b3"
      },
      "source": [
        "import string\n",
        "string.punctuation # to see punctuation library of string function"
      ],
      "execution_count": null,
      "outputs": [
        {
          "output_type": "execute_result",
          "data": {
            "application/vnd.google.colaboratory.intrinsic+json": {
              "type": "string"
            },
            "text/plain": [
              "'!\"#$%&\\'()*+,-./:;<=>?@[\\\\]^_`{|}~'"
            ]
          },
          "metadata": {
            "tags": []
          },
          "execution_count": 39
        }
      ]
    },
    {
      "cell_type": "code",
      "metadata": {
        "id": "ZynmO2pza4zj",
        "colab": {
          "base_uri": "https://localhost:8080/",
          "height": 453
        },
        "outputId": "4acf8149-1b33-45a8-d94b-0a65df31c23d"
      },
      "source": [
        "def remove_punctuation(text):\n",
        "    words_wo_punct= \"\".join([a for a in text if a not in string.punctuation])\n",
        "    return words_wo_punct\n",
        "df[ 'review_new' ] = df['reviewText'].apply(lambda x: remove_punctuation(x))\n",
        "print(len(df))\n",
        "df\n"
      ],
      "execution_count": null,
      "outputs": [
        {
          "output_type": "stream",
          "text": [
            "982597\n"
          ],
          "name": "stdout"
        },
        {
          "output_type": "execute_result",
          "data": {
            "text/html": [
              "<div>\n",
              "<style scoped>\n",
              "    .dataframe tbody tr th:only-of-type {\n",
              "        vertical-align: middle;\n",
              "    }\n",
              "\n",
              "    .dataframe tbody tr th {\n",
              "        vertical-align: top;\n",
              "    }\n",
              "\n",
              "    .dataframe thead th {\n",
              "        text-align: right;\n",
              "    }\n",
              "</style>\n",
              "<table border=\"1\" class=\"dataframe\">\n",
              "  <thead>\n",
              "    <tr style=\"text-align: right;\">\n",
              "      <th></th>\n",
              "      <th>overall</th>\n",
              "      <th>reviewText</th>\n",
              "      <th>sentiment</th>\n",
              "      <th>review_new</th>\n",
              "    </tr>\n",
              "  </thead>\n",
              "  <tbody>\n",
              "    <tr>\n",
              "      <th>0</th>\n",
              "      <td>5</td>\n",
              "      <td>I enjoy vintage books and movies so I enjoyed ...</td>\n",
              "      <td>1</td>\n",
              "      <td>I enjoy vintage books and movies so I enjoyed ...</td>\n",
              "    </tr>\n",
              "    <tr>\n",
              "      <th>1</th>\n",
              "      <td>4</td>\n",
              "      <td>This book is a reissue of an old one; the auth...</td>\n",
              "      <td>0</td>\n",
              "      <td>This book is a reissue of an old one the autho...</td>\n",
              "    </tr>\n",
              "    <tr>\n",
              "      <th>2</th>\n",
              "      <td>4</td>\n",
              "      <td>This was a fairly interesting read.  It had ol...</td>\n",
              "      <td>0</td>\n",
              "      <td>This was a fairly interesting read  It had old...</td>\n",
              "    </tr>\n",
              "    <tr>\n",
              "      <th>3</th>\n",
              "      <td>5</td>\n",
              "      <td>I'd never read any of the Amy Brewster mysteri...</td>\n",
              "      <td>1</td>\n",
              "      <td>Id never read any of the Amy Brewster mysterie...</td>\n",
              "    </tr>\n",
              "    <tr>\n",
              "      <th>4</th>\n",
              "      <td>4</td>\n",
              "      <td>If you like period pieces - clothing, lingo, y...</td>\n",
              "      <td>0</td>\n",
              "      <td>If you like period pieces  clothing lingo you ...</td>\n",
              "    </tr>\n",
              "    <tr>\n",
              "      <th>...</th>\n",
              "      <td>...</td>\n",
              "      <td>...</td>\n",
              "      <td>...</td>\n",
              "      <td>...</td>\n",
              "    </tr>\n",
              "    <tr>\n",
              "      <th>982614</th>\n",
              "      <td>5</td>\n",
              "      <td>Yasss hunny! This is a great read. That Dre is...</td>\n",
              "      <td>1</td>\n",
              "      <td>Yasss hunny This is a great read That Dre is a...</td>\n",
              "    </tr>\n",
              "    <tr>\n",
              "      <th>982615</th>\n",
              "      <td>5</td>\n",
              "      <td>I ENJOYED THIS BOOK FROM BEGINNING TO END NOW ...</td>\n",
              "      <td>1</td>\n",
              "      <td>I ENJOYED THIS BOOK FROM BEGINNING TO END NOW ...</td>\n",
              "    </tr>\n",
              "    <tr>\n",
              "      <th>982616</th>\n",
              "      <td>5</td>\n",
              "      <td>Great book! Cherika was a fool. She let that m...</td>\n",
              "      <td>1</td>\n",
              "      <td>Great book Cherika was a fool She let that man...</td>\n",
              "    </tr>\n",
              "    <tr>\n",
              "      <th>982617</th>\n",
              "      <td>5</td>\n",
              "      <td>When I say this was an excellent book please b...</td>\n",
              "      <td>1</td>\n",
              "      <td>When I say this was an excellent book please b...</td>\n",
              "    </tr>\n",
              "    <tr>\n",
              "      <th>982618</th>\n",
              "      <td>5</td>\n",
              "      <td>This book was everything. I just hope Alexus w...</td>\n",
              "      <td>1</td>\n",
              "      <td>This book was everything I just hope Alexus wi...</td>\n",
              "    </tr>\n",
              "  </tbody>\n",
              "</table>\n",
              "<p>982597 rows × 4 columns</p>\n",
              "</div>"
            ],
            "text/plain": [
              "        overall  ...                                         review_new\n",
              "0             5  ...  I enjoy vintage books and movies so I enjoyed ...\n",
              "1             4  ...  This book is a reissue of an old one the autho...\n",
              "2             4  ...  This was a fairly interesting read  It had old...\n",
              "3             5  ...  Id never read any of the Amy Brewster mysterie...\n",
              "4             4  ...  If you like period pieces  clothing lingo you ...\n",
              "...         ...  ...                                                ...\n",
              "982614        5  ...  Yasss hunny This is a great read That Dre is a...\n",
              "982615        5  ...  I ENJOYED THIS BOOK FROM BEGINNING TO END NOW ...\n",
              "982616        5  ...  Great book Cherika was a fool She let that man...\n",
              "982617        5  ...  When I say this was an excellent book please b...\n",
              "982618        5  ...  This book was everything I just hope Alexus wi...\n",
              "\n",
              "[982597 rows x 4 columns]"
            ]
          },
          "metadata": {
            "tags": []
          },
          "execution_count": 40
        }
      ]
    },
    {
      "cell_type": "code",
      "metadata": {
        "colab": {
          "base_uri": "https://localhost:8080/"
        },
        "id": "SxG5CCAuzDoh",
        "outputId": "a832247b-dc52-4c93-f94a-c9b414da7278"
      },
      "source": [
        "import nltk \n",
        "nltk.download('stopwords')\n",
        "nltk.download('wordnet')\n"
      ],
      "execution_count": null,
      "outputs": [
        {
          "output_type": "stream",
          "text": [
            "[nltk_data] Downloading package stopwords to /root/nltk_data...\n",
            "[nltk_data]   Unzipping corpora/stopwords.zip.\n",
            "[nltk_data] Downloading package wordnet to /root/nltk_data...\n",
            "[nltk_data]   Unzipping corpora/wordnet.zip.\n"
          ],
          "name": "stdout"
        },
        {
          "output_type": "execute_result",
          "data": {
            "text/plain": [
              "True"
            ]
          },
          "metadata": {
            "tags": []
          },
          "execution_count": 41
        }
      ]
    },
    {
      "cell_type": "code",
      "metadata": {
        "id": "sMVxvtBzxngb"
      },
      "source": [
        "from nltk.corpus import stopwords\n",
        "from nltk.stem import WordNetLemmatizer\n",
        "from sklearn.feature_extraction.text import CountVectorizer\n",
        "from sklearn.feature_extraction.text import TfidfVectorizer"
      ],
      "execution_count": null,
      "outputs": []
    },
    {
      "cell_type": "code",
      "metadata": {
        "id": "SnCJfJ5aa47F"
      },
      "source": [
        "#removing words that is non alpha\n",
        "df['review_new'] = df['review_new'].apply(lambda x: ' '.join(word for word in x.split() if word.isalpha()))\n",
        "\n",
        "#making all words to be lowercase\n",
        "df['review_new'] = df['review_new'].apply(lambda x: ' '.join(word.lower() for word in x.split()))\n",
        "\n",
        "#list of stop words\n",
        "stop = stopwords.words('english')\n",
        "\n",
        "#removing the stop words\n",
        "df['review_new'] = df['review_new'].apply(lambda x : ' '.join(word for word in x.split() if word not in stop))\n",
        "\n",
        "lem = WordNetLemmatizer()\n",
        "df['review_new'] = df['review_new'].apply(lambda x : ' '.join(lem.lemmatize(word, pos = 'v') for word in x.split()))"
      ],
      "execution_count": null,
      "outputs": []
    },
    {
      "cell_type": "code",
      "metadata": {
        "id": "gifQpxaB98_4",
        "colab": {
          "base_uri": "https://localhost:8080/",
          "height": 436
        },
        "outputId": "c0e8e6c7-59fe-4851-dcc2-0c5c820f01ed"
      },
      "source": [
        "df"
      ],
      "execution_count": null,
      "outputs": [
        {
          "output_type": "execute_result",
          "data": {
            "text/html": [
              "<div>\n",
              "<style scoped>\n",
              "    .dataframe tbody tr th:only-of-type {\n",
              "        vertical-align: middle;\n",
              "    }\n",
              "\n",
              "    .dataframe tbody tr th {\n",
              "        vertical-align: top;\n",
              "    }\n",
              "\n",
              "    .dataframe thead th {\n",
              "        text-align: right;\n",
              "    }\n",
              "</style>\n",
              "<table border=\"1\" class=\"dataframe\">\n",
              "  <thead>\n",
              "    <tr style=\"text-align: right;\">\n",
              "      <th></th>\n",
              "      <th>overall</th>\n",
              "      <th>reviewText</th>\n",
              "      <th>sentiment</th>\n",
              "      <th>review_new</th>\n",
              "    </tr>\n",
              "  </thead>\n",
              "  <tbody>\n",
              "    <tr>\n",
              "      <th>0</th>\n",
              "      <td>5</td>\n",
              "      <td>I enjoy vintage books and movies so I enjoyed ...</td>\n",
              "      <td>1</td>\n",
              "      <td>enjoy vintage book movies enjoy read book plot...</td>\n",
              "    </tr>\n",
              "    <tr>\n",
              "      <th>1</th>\n",
              "      <td>4</td>\n",
              "      <td>This book is a reissue of an old one; the auth...</td>\n",
              "      <td>0</td>\n",
              "      <td>book reissue old one author bear era say nero ...</td>\n",
              "    </tr>\n",
              "    <tr>\n",
              "      <th>2</th>\n",
              "      <td>4</td>\n",
              "      <td>This was a fairly interesting read.  It had ol...</td>\n",
              "      <td>0</td>\n",
              "      <td>fairly interest read old style terminologyi gl...</td>\n",
              "    </tr>\n",
              "    <tr>\n",
              "      <th>3</th>\n",
              "      <td>5</td>\n",
              "      <td>I'd never read any of the Amy Brewster mysteri...</td>\n",
              "      <td>1</td>\n",
              "      <td>id never read amy brewster mysteries one reall...</td>\n",
              "    </tr>\n",
              "    <tr>\n",
              "      <th>4</th>\n",
              "      <td>4</td>\n",
              "      <td>If you like period pieces - clothing, lingo, y...</td>\n",
              "      <td>0</td>\n",
              "      <td>like period piece clothe lingo enjoy mystery a...</td>\n",
              "    </tr>\n",
              "    <tr>\n",
              "      <th>...</th>\n",
              "      <td>...</td>\n",
              "      <td>...</td>\n",
              "      <td>...</td>\n",
              "      <td>...</td>\n",
              "    </tr>\n",
              "    <tr>\n",
              "      <th>982614</th>\n",
              "      <td>5</td>\n",
              "      <td>Yasss hunny! This is a great read. That Dre is...</td>\n",
              "      <td>1</td>\n",
              "      <td>yasss hunny great read dre mess cherika refuse...</td>\n",
              "    </tr>\n",
              "    <tr>\n",
              "      <th>982615</th>\n",
              "      <td>5</td>\n",
              "      <td>I ENJOYED THIS BOOK FROM BEGINNING TO END NOW ...</td>\n",
              "      <td>1</td>\n",
              "      <td>enjoy book begin end far lex hoe sneaky damn s...</td>\n",
              "    </tr>\n",
              "    <tr>\n",
              "      <th>982616</th>\n",
              "      <td>5</td>\n",
              "      <td>Great book! Cherika was a fool. She let that m...</td>\n",
              "      <td>1</td>\n",
              "      <td>great book cherika fool let man get away much ...</td>\n",
              "    </tr>\n",
              "    <tr>\n",
              "      <th>982617</th>\n",
              "      <td>5</td>\n",
              "      <td>When I say this was an excellent book please b...</td>\n",
              "      <td>1</td>\n",
              "      <td>say excellent book please believe definitely p...</td>\n",
              "    </tr>\n",
              "    <tr>\n",
              "      <th>982618</th>\n",
              "      <td>5</td>\n",
              "      <td>This book was everything. I just hope Alexus w...</td>\n",
              "      <td>1</td>\n",
              "      <td>book everything hope alexus wise move lawd thi...</td>\n",
              "    </tr>\n",
              "  </tbody>\n",
              "</table>\n",
              "<p>982597 rows × 4 columns</p>\n",
              "</div>"
            ],
            "text/plain": [
              "        overall  ...                                         review_new\n",
              "0             5  ...  enjoy vintage book movies enjoy read book plot...\n",
              "1             4  ...  book reissue old one author bear era say nero ...\n",
              "2             4  ...  fairly interest read old style terminologyi gl...\n",
              "3             5  ...  id never read amy brewster mysteries one reall...\n",
              "4             4  ...  like period piece clothe lingo enjoy mystery a...\n",
              "...         ...  ...                                                ...\n",
              "982614        5  ...  yasss hunny great read dre mess cherika refuse...\n",
              "982615        5  ...  enjoy book begin end far lex hoe sneaky damn s...\n",
              "982616        5  ...  great book cherika fool let man get away much ...\n",
              "982617        5  ...  say excellent book please believe definitely p...\n",
              "982618        5  ...  book everything hope alexus wise move lawd thi...\n",
              "\n",
              "[982597 rows x 4 columns]"
            ]
          },
          "metadata": {
            "tags": []
          },
          "execution_count": 44
        }
      ]
    },
    {
      "cell_type": "code",
      "metadata": {
        "id": "KUf53laGi_Og"
      },
      "source": [
        "\n",
        "def make_xy(data, vec, n):\n",
        "    temp = pd.DataFrame()\n",
        "    for rating in range(2):\n",
        "        temp = pd.concat([temp, data[data.sentiment == rating].sample(n, random_state = 42)], ignore_index = True)\n",
        "        \n",
        "    #vectorizing \n",
        "    X = vec.fit_transform(temp.review_new)\n",
        "    y = temp.sentiment\n",
        "    return X, y"
      ],
      "execution_count": null,
      "outputs": []
    },
    {
      "cell_type": "code",
      "metadata": {
        "colab": {
          "base_uri": "https://localhost:8080/"
        },
        "id": "YcEuTXeqqWdl",
        "outputId": "0192ed0a-2757-4a82-a948-a6fcf7ec460a"
      },
      "source": [
        "reviews = df\n",
        "reviews.sentiment.value_counts()\n"
      ],
      "execution_count": null,
      "outputs": [
        {
          "output_type": "execute_result",
          "data": {
            "text/plain": [
              "1    575246\n",
              "0    407351\n",
              "Name: sentiment, dtype: int64"
            ]
          },
          "metadata": {
            "tags": []
          },
          "execution_count": 46
        }
      ]
    },
    {
      "cell_type": "code",
      "metadata": {
        "id": "lXx76EMTprE4"
      },
      "source": [
        "from sklearn.feature_extraction.text import CountVectorizer, TfidfTransformer\n",
        "\n",
        "count = CountVectorizer()\n",
        "X, y = make_xy(reviews, count, 50000)"
      ],
      "execution_count": null,
      "outputs": []
    },
    {
      "cell_type": "code",
      "metadata": {
        "colab": {
          "base_uri": "https://localhost:8080/"
        },
        "id": "gU60e_orQNwz",
        "outputId": "76585967-d89a-4c02-dbef-9caac947ab35"
      },
      "source": [
        "print(X.get_shape())\n",
        "print(y.size)"
      ],
      "execution_count": null,
      "outputs": [
        {
          "output_type": "stream",
          "text": [
            "(100000, 169115)\n",
            "100000\n"
          ],
          "name": "stdout"
        }
      ]
    },
    {
      "cell_type": "code",
      "metadata": {
        "id": "lug9tsQ3qzcC"
      },
      "source": [
        "#using TfidfVectorizer\n",
        "tfidf = TfidfVectorizer()\n",
        "Xt, yt = make_xy(reviews, tfidf, 50000)"
      ],
      "execution_count": null,
      "outputs": []
    },
    {
      "cell_type": "code",
      "metadata": {
        "colab": {
          "base_uri": "https://localhost:8080/"
        },
        "id": "FxQdMPPLqzoO",
        "outputId": "7ff2fde7-3f36-4f6a-d3eb-2ec9cbf87043"
      },
      "source": [
        "# PAKE COUNTVECTORIZER YA \n",
        "from sklearn.model_selection import train_test_split\n",
        "from sklearn.naive_bayes import MultinomialNB\n",
        "\n",
        "X_train, X_test, y_train, y_test = train_test_split(X, y, test_size = .3, random_state = 4, stratify = y)\n",
        "\n",
        "nb = MultinomialNB()\n",
        "nb.fit(X_train, y_train)\n",
        "print('Training Accuracy: {:.2f}'.format(nb.score(X_train, y_train)))\n",
        "print('Testing Accuracy: {:.2f}'.format(nb.score(X_test, y_test)))"
      ],
      "execution_count": null,
      "outputs": [
        {
          "output_type": "stream",
          "text": [
            "Training Accuracy: 0.82\n",
            "Testing Accuracy: 0.74\n"
          ],
          "name": "stdout"
        }
      ]
    },
    {
      "cell_type": "code",
      "metadata": {
        "id": "yRpad35Tqzyx"
      },
      "source": [
        ""
      ],
      "execution_count": null,
      "outputs": []
    },
    {
      "cell_type": "code",
      "metadata": {
        "colab": {
          "base_uri": "https://localhost:8080/"
        },
        "id": "vqsr0MdZqz9d",
        "outputId": "37acbca3-5745-49d4-a637-88353fe3a180"
      },
      "source": [
        "# PAAKE TFIDF YA \n",
        "tfidf = TfidfVectorizer(min_df = .001)\n",
        "Xt, yt = make_xy(reviews,tfidf, 50000)\n",
        "\n",
        "X_train, X_test, y_train, y_test = train_test_split(Xt, yt, test_size = .3, random_state = 42, stratify = y)\n",
        "\n",
        "nb = MultinomialNB(alpha = 5)\n",
        "nb.fit(X_train, y_train)\n",
        "naive_pred = nb.predict(X_test)\n",
        "naive_prob = nb.predict_proba(X_test)[:,1]\n",
        "\n",
        "\n",
        "print('Training Accuracy with TfidfVectorizer: {:.2f}'.format(nb.score(X_train, y_train)))\n",
        "print('Testing Accuracy with TfidfVectorizer: {:.2f}'.format(nb.score(X_test, y_test)))\n",
        "\n",
        "print('\\n Classification Report: ')\n",
        "print(classification_report(y_test, naive_pred))"
      ],
      "execution_count": null,
      "outputs": [
        {
          "output_type": "stream",
          "text": [
            "Training Accuracy with TfidfVectorizer: 0.75\n",
            "Testing Accuracy with TfidfVectorizer: 0.73\n",
            "\n",
            " Classification Report: \n",
            "              precision    recall  f1-score   support\n",
            "\n",
            "           0       0.74      0.71      0.73     15000\n",
            "           1       0.73      0.76      0.74     15000\n",
            "\n",
            "    accuracy                           0.73     30000\n",
            "   macro avg       0.73      0.73      0.73     30000\n",
            "weighted avg       0.73      0.73      0.73     30000\n",
            "\n"
          ],
          "name": "stdout"
        }
      ]
    },
    {
      "cell_type": "code",
      "metadata": {
        "id": "MDJQr_fsq0J0"
      },
      "source": [
        ""
      ],
      "execution_count": null,
      "outputs": []
    },
    {
      "cell_type": "code",
      "metadata": {
        "colab": {
          "base_uri": "https://localhost:8080/"
        },
        "id": "ZIWOclQMlvx8",
        "outputId": "986b8140-b2db-413e-f433-950467e4480b"
      },
      "source": [
        "X_train.shape, X_test.shape, y_train.shape, y_test.shape\n"
      ],
      "execution_count": null,
      "outputs": [
        {
          "output_type": "execute_result",
          "data": {
            "text/plain": [
              "((70000, 3910), (30000, 3910), (70000,), (30000,))"
            ]
          },
          "metadata": {
            "tags": []
          },
          "execution_count": 77
        }
      ]
    },
    {
      "cell_type": "code",
      "metadata": {
        "id": "d7VnPNOee2x7"
      },
      "source": [
        ""
      ],
      "execution_count": null,
      "outputs": []
    }
  ]
}